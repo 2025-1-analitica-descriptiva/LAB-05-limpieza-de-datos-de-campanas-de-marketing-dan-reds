{
 "cells": [
  {
   "cell_type": "markdown",
   "id": "c9c4c40d",
   "metadata": {},
   "source": [
    "## Pregunta 1"
   ]
  },
  {
   "cell_type": "code",
   "execution_count": null,
   "id": "0b16c6d1",
   "metadata": {},
   "outputs": [],
   "source": [
    "# Librerías\n",
    "import zipfile\n",
    "import os.path\n",
    "import os\n"
   ]
  },
  {
   "cell_type": "code",
   "execution_count": 12,
   "id": "93e7c26c",
   "metadata": {},
   "outputs": [
    {
     "name": "stdout",
     "output_type": "stream",
     "text": [
      "File Name                                             Modified             Size\n",
      "bank_marketing_0.csv                           2024-11-10 08:05:52       387785\n",
      "File Name                                             Modified             Size\n",
      "bank_marketing_1.csv                           2024-11-10 08:05:52       388808\n",
      "File Name                                             Modified             Size\n",
      "bank_marketing_2.csv                           2024-11-10 08:05:52       390961\n",
      "File Name                                             Modified             Size\n",
      "bank_marketing_3.csv                           2024-11-10 08:05:52       391143\n",
      "File Name                                             Modified             Size\n",
      "bank_marketing_4.csv                           2024-11-10 08:05:52       396629\n",
      "File Name                                             Modified             Size\n",
      "bank_marketing_5.csv                           2024-11-10 08:05:52       398526\n",
      "File Name                                             Modified             Size\n",
      "bank_marketing_6.csv                           2024-11-10 08:05:52       384325\n",
      "File Name                                             Modified             Size\n",
      "bank_marketing_7.csv                           2024-11-10 08:05:52       386257\n",
      "File Name                                             Modified             Size\n",
      "bank_marketing_8.csv                           2024-11-10 08:05:52       384663\n",
      "File Name                                             Modified             Size\n",
      "bank_marketing_9.csv                           2024-11-10 08:05:52       382205\n"
     ]
    }
   ],
   "source": [
    "for i in range(10):\n",
    "    with zipfile.ZipFile(f'../files/input/bank-marketing-campaing-{i}.csv.zip', 'r') as zip:\n",
    "        zip.printdir()"
   ]
  },
  {
   "cell_type": "code",
   "execution_count": 13,
   "id": "939b50a6",
   "metadata": {},
   "outputs": [],
   "source": [
    "import zipfile\n",
    "\n",
    "box0 = []\n",
    "\n",
    "for i in range(10):\n",
    "    ruta_zip = f'../files/input/bank-marketing-campaing-{i}.csv.zip'\n",
    "    with zipfile.ZipFile(ruta_zip, 'r') as z:\n",
    "        nombres = z.namelist()  # lista de archivos dentro del zip\n",
    "        box0.append(nombres)    # almacena en box0"
   ]
  },
  {
   "cell_type": "code",
   "execution_count": null,
   "id": "4759ddb5",
   "metadata": {},
   "outputs": [
    {
     "name": "stdout",
     "output_type": "stream",
     "text": [
      "bank_marketing_0.csv\n",
      "bank_marketing_1.csv\n",
      "bank_marketing_2.csv\n",
      "bank_marketing_3.csv\n",
      "bank_marketing_4.csv\n",
      "bank_marketing_5.csv\n",
      "bank_marketing_6.csv\n",
      "bank_marketing_7.csv\n",
      "bank_marketing_8.csv\n",
      "bank_marketing_9.csv\n"
     ]
    }
   ],
   "source": [
    "# Todos los nombres de los archivos\n",
    "for n in range(10):    \n",
    "    print(box0[n][0])"
   ]
  },
  {
   "cell_type": "code",
   "execution_count": 27,
   "id": "afc47dd4",
   "metadata": {},
   "outputs": [
    {
     "name": "stdout",
     "output_type": "stream",
     "text": [
      "['Unnamed: 0', 'client_id', 'age', 'job', 'marital', 'education', 'credit_default', 'mortgage', 'month', 'day', 'contact_duration', 'number_contacts', 'previous_campaign_contacts', 'previous_outcome', 'cons_price_idx', 'euribor_three_months', 'campaign_outcome']\n",
      "['Unnamed: 0', 'client_id', 'age', 'job', 'marital', 'education', 'credit_default', 'mortgage', 'month', 'day', 'contact_duration', 'number_contacts', 'previous_campaign_contacts', 'previous_outcome', 'cons_price_idx', 'euribor_three_months', 'campaign_outcome']\n",
      "['Unnamed: 0', 'client_id', 'age', 'job', 'marital', 'education', 'credit_default', 'mortgage', 'month', 'day', 'contact_duration', 'number_contacts', 'previous_campaign_contacts', 'previous_outcome', 'cons_price_idx', 'euribor_three_months', 'campaign_outcome']\n",
      "['Unnamed: 0', 'client_id', 'age', 'job', 'marital', 'education', 'credit_default', 'mortgage', 'month', 'day', 'contact_duration', 'number_contacts', 'previous_campaign_contacts', 'previous_outcome', 'cons_price_idx', 'euribor_three_months', 'campaign_outcome']\n",
      "['Unnamed: 0', 'client_id', 'age', 'job', 'marital', 'education', 'credit_default', 'mortgage', 'month', 'day', 'contact_duration', 'number_contacts', 'previous_campaign_contacts', 'previous_outcome', 'cons_price_idx', 'euribor_three_months', 'campaign_outcome']\n",
      "['Unnamed: 0', 'client_id', 'age', 'job', 'marital', 'education', 'credit_default', 'mortgage', 'month', 'day', 'contact_duration', 'number_contacts', 'previous_campaign_contacts', 'previous_outcome', 'cons_price_idx', 'euribor_three_months', 'campaign_outcome']\n",
      "['Unnamed: 0', 'client_id', 'age', 'job', 'marital', 'education', 'credit_default', 'mortgage', 'month', 'day', 'contact_duration', 'number_contacts', 'previous_campaign_contacts', 'previous_outcome', 'cons_price_idx', 'euribor_three_months', 'campaign_outcome']\n",
      "['Unnamed: 0', 'client_id', 'age', 'job', 'marital', 'education', 'credit_default', 'mortgage', 'month', 'day', 'contact_duration', 'number_contacts', 'previous_campaign_contacts', 'previous_outcome', 'cons_price_idx', 'euribor_three_months', 'campaign_outcome']\n",
      "['Unnamed: 0', 'client_id', 'age', 'job', 'marital', 'education', 'credit_default', 'mortgage', 'month', 'day', 'contact_duration', 'number_contacts', 'previous_campaign_contacts', 'previous_outcome', 'cons_price_idx', 'euribor_three_months', 'campaign_outcome']\n",
      "['Unnamed: 0', 'client_id', 'age', 'job', 'marital', 'education', 'credit_default', 'mortgage', 'month', 'day', 'contact_duration', 'number_contacts', 'previous_campaign_contacts', 'previous_outcome', 'cons_price_idx', 'euribor_three_months', 'campaign_outcome']\n"
     ]
    }
   ],
   "source": [
    "# Abrir cada archivo e imprimir unas filas\n",
    "import pandas as pd\n",
    "\n",
    "for i in range(10):\n",
    "    ruta_zip = f'../files/input/bank-marketing-campaing-{i}.csv.zip'\n",
    "    with zipfile.ZipFile(ruta_zip, 'r') as z:\n",
    "        with z.open(f'bank_marketing_{i}.csv') as f:\n",
    "            df = pd.read_csv(f, nrows=1)\n",
    "            print(df.columns.tolist())"
   ]
  },
  {
   "cell_type": "code",
   "execution_count": 28,
   "id": "8a5a4c37",
   "metadata": {},
   "outputs": [],
   "source": [
    "# Definimos las columnas que debe contener cada dataframe:\n",
    "cliente_cols = ['client_id','age','job','marital','education','credit_default','mortage']\n",
    "campaign_cols = ['client_id','number_contacts','contact_duration','previous_campaign_contacts','previous_outcome','campaign_outcome','mortage',\n",
    "                 'day','month']\n",
    "economics_cols = ['client_id','cons_price_idx','euribor_three_months']"
   ]
  },
  {
   "cell_type": "markdown",
   "id": "6def8b51",
   "metadata": {},
   "source": [
    "    economics.csv:\n",
    "    - client_id\n",
    "    - const_price_idx\n",
    "    - eurobor_three_months"
   ]
  },
  {
   "cell_type": "code",
   "execution_count": null,
   "id": "452daa72",
   "metadata": {},
   "outputs": [],
   "source": [
    "# Crear la carpeta files output para almacenar los resultados\n",
    "# import os.path\n",
    "# import os\n",
    "\n",
    "# if not os.path.exists('../files/output'):\n",
    "#     os.makedirs('../files/output')"
   ]
  },
  {
   "cell_type": "code",
   "execution_count": null,
   "id": "71ea5cfb",
   "metadata": {},
   "outputs": [],
   "source": [
    "# No funciona.....\n",
    "\n",
    "import pandas as pd\n",
    "import zipfile\n",
    "\n",
    "# Definimos las columnas que debe contener cada dataframe:\n",
    "cliente_cols = ['client_id','age','job','marital','education','credit_default','mortgage']\n",
    "campaign_cols = ['client_id','number_contacts','contact_duration','previous_campaign_contacts','previous_outcome','campaign_outcome',\n",
    "                 'day','month']\n",
    "economics_cols = ['client_id','cons_price_idx','euribor_three_months']\n",
    "\n",
    "import pandas as pd\n",
    "\n",
    "for i in range(10):\n",
    "    ruta_zip = f'../files/input/bank-marketing-campaing-{i}.csv.zip'\n",
    "    with zipfile.ZipFile(ruta_zip, 'r') as z:\n",
    "        with z.open(f'bank_marketing_{i}.csv') as f:\n",
    "            df = pd.read_csv(f) # Guarda todo el dataframe\n",
    "            \n",
    "            # copiar y seleccionar columnas\n",
    "            cliente = df[cliente_cols].copy()\n",
    "            campaign = df[campaign_cols].copy()\n",
    "            economics = df[economics_cols].copy()\n",
    "            \n",
    "            # editar los campos del dataframe client.csv\n",
    "            cliente['job'] = cliente['job'].str.replace(\".\", \"\", regex=False)\n",
    "            cliente['job'] = cliente['job'].str.replace(\"-\", \"_\", regex=False)\n",
    "            cliente['education'] = cliente['education'].replace(\".\", \"_\")\n",
    "            cliente['education'] = cliente['education'].replace(\"unknown\", pd.NA)\n",
    "            cliente['credit_default'] = cliente['credit_default'].map(lambda x: 1 if x == 'yes' else 0)\n",
    "            cliente['mortgage'] = cliente['mortgage'].map(lambda x: 1 if x == 'yes' else 0)\n",
    "            \n",
    "            # editar los campos del dataframe campaign.csv\n",
    "            campaign['previous_outcome'] = campaign['previous_outcome'].map(lambda x: 1 if x == 'success' else 0)\n",
    "            campaign['campaign_outcome'] = campaign['campaign_outcome'].map(lambda x: 1 if x == 'yes' else 0)\n",
    "            campaign['month'] = campaign['month'].str.capitalize()\n",
    "            campaign['day'] = campaign['day'].astype(str)\n",
    "            campaign['last_contact_day'] = '2022-' + campaign['month'] + '-' + campaign['day']\n",
    "            \n",
    "            \n",
    "            # exportar \n",
    "            cliente.to_csv('../files/output/client.csv', index=False, encoding='utf-8')\n",
    "            campaign.to_csv('../files/output/campaign.csv', index=False, encoding='utf-8')\n",
    "            economics.to_csv('../files/output/economics.csv', index=False, encoding='utf-8')"
   ]
  },
  {
   "cell_type": "code",
   "execution_count": null,
   "id": "e86f0727",
   "metadata": {},
   "outputs": [],
   "source": [
    "# SI FUNCIONA....\n",
    "\n",
    "import pandas as pd\n",
    "import zipfile\n",
    "\n",
    "# Definimos las columnas que debe contener cada dataframe\n",
    "cliente_cols = ['client_id', 'age', 'job', 'marital', 'education', 'credit_default', 'mortgage']\n",
    "campaign_cols = ['client_id', 'number_contacts', 'contact_duration', 'previous_campaign_contacts',\n",
    "                 'previous_outcome', 'campaign_outcome']\n",
    "economics_cols = ['client_id', 'cons_price_idx', 'euribor_three_months']\n",
    "\n",
    "# Acumuladores para cada tipo de tabla\n",
    "clientes_totales = []\n",
    "campaigns_totales = []\n",
    "economics_totales = []\n",
    "\n",
    "for i in range(10):\n",
    "    ruta_zip = f'../files/input/bank-marketing-campaing-{i}.csv.zip'\n",
    "    \n",
    "    with zipfile.ZipFile(ruta_zip, 'r') as z:\n",
    "        with z.open(f'bank_marketing_{i}.csv') as f:\n",
    "            df = pd.read_csv(f)\n",
    "\n",
    "            # --- cliente.csv ---\n",
    "            cliente = df[cliente_cols].copy()\n",
    "            cliente['job'] = cliente['job'].str.replace('.', '', regex=False).str.replace('-', '_', regex=False)\n",
    "            cliente['education'] = cliente['education'].str.replace('.', '_', regex=False)\n",
    "            cliente['education'] = cliente['education'].replace(\"unknown\", pd.NA)\n",
    "            cliente['credit_default'] = cliente['credit_default'].map(lambda x: 1 if x == 'yes' else 0)\n",
    "            cliente['mortgage'] = cliente['mortgage'].map(lambda x: 1 if x == 'yes' else 0)\n",
    "            clientes_totales.append(cliente)\n",
    "\n",
    "            # --- campaign.csv ---\n",
    "            campaign = df[campaign_cols].copy()\n",
    "            campaign['previous_outcome'] = campaign['previous_outcome'].map(lambda x: 1 if x == 'success' else 0)\n",
    "            campaign['campaign_outcome'] = campaign['campaign_outcome'].map(lambda x: 1 if x == 'yes' else 0)\n",
    "            df['month'] = df['month'].str.capitalize()\n",
    "            df['day'] = df['day'].astype(str)\n",
    "\n",
    "            # Crear fecha en formato YYYY-MM-DD\n",
    "            campaign['last_contact_date'] = pd.to_datetime(\n",
    "                '2022-' + df['month'] + '-' + df['day'],\n",
    "                format='%Y-%b-%d',\n",
    "                errors='coerce'\n",
    "            ).dt.strftime('%Y-%m-%d')\n",
    "\n",
    "            campaigns_totales.append(campaign)\n",
    "\n",
    "            # --- economics.csv ---\n",
    "            economics = df[economics_cols].copy()\n",
    "            economics_totales.append(economics)\n",
    "\n",
    "# --- Exportar archivos combinados ---\n",
    "pd.concat(clientes_totales, ignore_index=True).to_csv('../files/output/client.csv', index=False, encoding='utf-8')\n",
    "pd.concat(campaigns_totales, ignore_index=True).to_csv('../files/output/campaign.csv', index=False, encoding='utf-8')\n",
    "pd.concat(economics_totales, ignore_index=True).to_csv('../files/output/economics.csv', index=False, encoding='utf-8')\n"
   ]
  }
 ],
 "metadata": {
  "kernelspec": {
   "display_name": ".venv",
   "language": "python",
   "name": "python3"
  },
  "language_info": {
   "codemirror_mode": {
    "name": "ipython",
    "version": 3
   },
   "file_extension": ".py",
   "mimetype": "text/x-python",
   "name": "python",
   "nbconvert_exporter": "python",
   "pygments_lexer": "ipython3",
   "version": "3.11.9"
  }
 },
 "nbformat": 4,
 "nbformat_minor": 5
}
